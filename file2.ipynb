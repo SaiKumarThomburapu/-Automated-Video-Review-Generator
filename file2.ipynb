{
 "cells": [
  {
   "cell_type": "code",
   "execution_count": 2,
   "id": "820a2e14",
   "metadata": {},
   "outputs": [
    {
     "name": "stdout",
     "output_type": "stream",
     "text": [
      " Processing video: C:/Vedios_to_summarize/1.3. Types of AI.mp4\n"
     ]
    },
    {
     "name": "stderr",
     "output_type": "stream",
     "text": [
      "c:\\Users\\Mastan\\anaconda3\\envs\\video_summary\\lib\\site-packages\\whisper\\transcribe.py:126: UserWarning: FP16 is not supported on CPU; using FP32 instead\n",
      "  warnings.warn(\"FP16 is not supported on CPU; using FP32 instead\")\n"
     ]
    },
    {
     "name": "stdout",
     "output_type": "stream",
     "text": [
      " Markdown saved: 1.3. Types of AI.md\n"
     ]
    }
   ],
   "source": [
    "import os\n",
    "import whisper\n",
    "import ffmpeg  # replaced moviepy\n",
    "from langchain_community.llms import Ollama\n",
    "\n",
    "# Load models\n",
    "whisper_model = whisper.load_model(\"base\")   # Use \"small\", \"medium\" for better accuracy if needed\n",
    "llm = Ollama(model=\"llama3.2\")          # Ensure Ollama with llama3 is running\n",
    "\n",
    "# Extract audio from video using ffmpeg-python\n",
    "def extract_audio(video_path, output_audio=\"audio2.wav\"):\n",
    "    (\n",
    "        ffmpeg\n",
    "        .input(video_path)\n",
    "        .output(output_audio, format='wav', acodec='pcm_s16le', ac=1, ar='16000')\n",
    "        .run(overwrite_output=True)\n",
    "    )\n",
    "    return output_audio\n",
    "\n",
    "# Transcribe audio to text\n",
    "def transcribe(audio_path):\n",
    "    result = whisper_model.transcribe(audio_path)\n",
    "    return result[\"text\"]\n",
    "\n",
    "# Summarize using LLM\n",
    "def summarize(transcript):\n",
    "    prompt = f\"\"\"\n",
    "You are an expert AI assistant reviewing an educational video on Generative AI. Given the transcript below, generate a well-structured review in **Markdown format**.\n",
    "\n",
    "Your response must include:\n",
    "\n",
    "#  Video Summary\n",
    "Provide a clear and concise summary of the video's content.\n",
    "\n",
    "##  Topics Covered\n",
    "List all major topics or subtopics discussed in the video.\n",
    "\n",
    "##  Content Quality Evaluation\n",
    "State whether the content is **Good**, **Moderate**, or **Poor**. Justify your answer with clear reasoning (clarity, flow, explanation depth, etc.).\n",
    "\n",
    "##  Beginner-Friendliness\n",
    "Analyze if this video is beginner-friendly. Are technical terms explained? Is it suitable for someone new to Generative AI?\n",
    "\n",
    "##  Suggestions for Improvement\n",
    "Suggest what more could be included to improve the video for beginners — missing concepts, better examples, visual aids, or practical demos.\n",
    "\n",
    "##  Final Verdict\n",
    "Provide a short conclusion on the video’s usefulness, quality, and whether it’s recommended for a Gen AI course.\n",
    "\n",
    "---\n",
    "Transcript:\n",
    "\\\"\\\"\\\"\n",
    "{transcript}\n",
    "\\\"\\\"\\\"\n",
    "\"\"\"\n",
    "\n",
    "    return llm.invoke(prompt)\n",
    "\n",
    "# Process single video\n",
    "def summarize_video(video_path):\n",
    "    print(f\" Processing video: {video_path}\")\n",
    "\n",
    "    audio_path = extract_audio(video_path)\n",
    "    transcript = transcribe(audio_path)\n",
    "    markdown = summarize(transcript)\n",
    "\n",
    "    os.remove(audio_path)  # Clean up\n",
    "\n",
    "    output_file = os.path.splitext(os.path.basename(video_path))[0] + \".md\"\n",
    "    with open(output_file, \"w\", encoding=\"utf-8\") as f:\n",
    "        f.write(markdown)\n",
    "\n",
    "    print(f\" Markdown saved: {output_file}\")\n",
    "\n",
    "# Example usage\n",
    "if __name__ == \"__main__\":\n",
    "    video_path =\"C:/Vedios_to_summarize/1.3. Types of AI.mp4\"\n",
    "    summarize_video(video_path)"
   ]
  }
 ],
 "metadata": {
  "kernelspec": {
   "display_name": "video_summary",
   "language": "python",
   "name": "python3"
  },
  "language_info": {
   "codemirror_mode": {
    "name": "ipython",
    "version": 3
   },
   "file_extension": ".py",
   "mimetype": "text/x-python",
   "name": "python",
   "nbconvert_exporter": "python",
   "pygments_lexer": "ipython3",
   "version": "3.10.16"
  }
 },
 "nbformat": 4,
 "nbformat_minor": 5
}
